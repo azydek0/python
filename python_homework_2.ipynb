{
  "nbformat": 4,
  "nbformat_minor": 0,
  "metadata": {
    "colab": {
      "name": "python_homework_2.ipynb",
      "provenance": [],
      "collapsed_sections": [],
      "authorship_tag": "ABX9TyOJ+OD/j6BkyESash/m6uub",
      "include_colab_link": true
    },
    "kernelspec": {
      "name": "python3",
      "display_name": "Python 3"
    }
  },
  "cells": [
    {
      "cell_type": "markdown",
      "metadata": {
        "id": "view-in-github",
        "colab_type": "text"
      },
      "source": [
        "<a href=\"https://colab.research.google.com/github/azydek0/python/blob/main/python_homework_2.ipynb\" target=\"_parent\"><img src=\"https://colab.research.google.com/assets/colab-badge.svg\" alt=\"Open In Colab\"/></a>"
      ]
    },
    {
      "cell_type": "code",
      "metadata": {
        "id": "0BkFlY8tVHu3",
        "outputId": "de4dbbfa-4f5d-4c7b-9d6c-525c7b965b5d",
        "colab": {
          "base_uri": "https://localhost:8080/"
        }
      },
      "source": [
        "import numpy as np\n",
        "\n",
        "n = 40000000\n",
        "full_year = np.random.randint(1800, high=2099, size=n)\n",
        "year = full_year % 100\n",
        "month = np.random.randint(low=1, high=12, size=n)\n",
        "day = np.random.randint(low=1, high=30, size=n)\n",
        "ser_1 = np.random.randint(low=0, high=9, size=n)\n",
        "ser_2 = np.random.randint(low=0, high=9, size=n)\n",
        "ser_3 = np.random.randint(low=0, high=9, size=n)\n",
        "sex = np.random.randint(low=0, high=1, size=n)\n",
        "\n",
        "months_long = [1, 3, 5, 7, 8, 10, 12]\n",
        "months_short = [4, 6, 9, 11]\n",
        "for mn in months_long:\n",
        "  day[month == mn] = np.random.randint(low=1, high=31, size=len(day[month == mn]))\n",
        "for mn in months_short:\n",
        "  day[month == mn] = np.random.randint(low=1, high=30, size=len(day[month == mn]))\n",
        "mask_feb = np.logical_and(year % 4 == 0, month == 2)\n",
        "day[mask_feb] = np.random.randint(low=1, high=29, size=(mask_feb.sum()))\n",
        "\n",
        "mask_year = np.logical_and(full_year >= 1800, full_year <= 1899)\n",
        "month[mask_year] = month[mask_year] + 80\n",
        "mask_year = np.logical_and(full_year >= 2000, full_year <= 2099)\n",
        "month[mask_year] = month[mask_year] + 20\n",
        "mask_year = np.logical_and(full_year >= 2100, full_year <= 2199)\n",
        "month[mask_year] = month[mask_year] + 40\n",
        "mask_year = np.logical_and(full_year >= 2200, full_year <= 2299)\n",
        "month[mask_year] = month[mask_year] + 60\n",
        "\n",
        "# checksum\n",
        "control = (year//10) + 3*(year%10)\n",
        "control += 7*(month//10) + 9*(month%10)\n",
        "control += (day//10) + 3*(day%10)\n",
        "control += 7*(ser_1//10) + 9*(ser_1%10)\n",
        "control += (ser_2//10) + 3*(ser_2%10)\n",
        "control += 7*(ser_3//10) + 9*(ser_3%10)\n",
        "control += (sex//10) + 3*(sex%10)\n",
        "\n",
        "control = (10 - (control % 10)) % 10\n",
        "\n",
        "pesel_db = 1000000000*year + 10000000*month + 100000*day + 10000*ser_1 + 1000*ser_2 + 100*ser_3 + 10 * sex + control\n",
        "\n",
        "print(day[month == 1], len(day))"
      ],
      "execution_count": null,
      "outputs": [
        {
          "output_type": "stream",
          "text": [
            "[21 13 29 ... 29  8 30] 40000000\n"
          ],
          "name": "stdout"
        }
      ]
    },
    {
      "cell_type": "code",
      "metadata": {
        "id": "20stta2_wdfl",
        "outputId": "5e4780d6-543d-40b4-a271-e8cabba98ab3",
        "colab": {
          "base_uri": "https://localhost:8080/"
        }
      },
      "source": [
        "def sum_digits(n, l):\n",
        "  s = np.zeros(len(n))\n",
        "  while l:\n",
        "    s = s + n % 10\n",
        "    n = n // 10\n",
        "    l = l - 1\n",
        "  return s\n",
        "  \n",
        "vibrations = sum_digits(vibrations, 3)\n",
        "vibrations = sum_digits(vibrations, 3)\n",
        "vibrations = sum_digits(pesel_db, 11)\n",
        "vibrations\n"
      ],
      "execution_count": null,
      "outputs": [
        {
          "output_type": "execute_result",
          "data": {
            "text/plain": [
              "array([40., 44., 32., ..., 40., 42., 36.])"
            ]
          },
          "metadata": {
            "tags": []
          },
          "execution_count": 4
        }
      ]
    }
  ]
}